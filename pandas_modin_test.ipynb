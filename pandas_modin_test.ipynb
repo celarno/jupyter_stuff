{
 "cells": [
  {
   "cell_type": "code",
   "execution_count": 2,
   "metadata": {},
   "outputs": [],
   "source": [
    "import modin.pandas as pd\n",
    "import pandas as old_pd\n",
    "import dask.dataframe as dd\n",
    "import numpy as np\n",
    "import random\n",
    "\n",
    "from pyspark.sql import SparkSession, functions\n",
    "from pyspark.sql.types import *"
   ]
  },
  {
   "cell_type": "code",
   "execution_count": 3,
   "metadata": {},
   "outputs": [
    {
     "name": "stdout",
     "output_type": "stream",
     "text": [
      "10 mio rows\n"
     ]
    }
   ],
   "source": [
    "row_size = 10000000\n",
    "print(int(row_size / 1000000), \"mio rows\")"
   ]
  },
  {
   "cell_type": "code",
   "execution_count": 4,
   "metadata": {},
   "outputs": [],
   "source": [
    "frame_data = np.random.randint(0, 100, size=(row_size, 1))"
   ]
  },
  {
   "cell_type": "code",
   "execution_count": 5,
   "metadata": {},
   "outputs": [],
   "source": [
    "foo = ['a', 'b', 'c']\n",
    "random_groups = [random.choice(foo) for x in range(row_size)]"
   ]
  },
  {
   "cell_type": "code",
   "execution_count": 6,
   "metadata": {},
   "outputs": [
    {
     "name": "stdout",
     "output_type": "stream",
     "text": [
      "### PANDAS ###\n",
      "            data\n",
      "group           \n",
      "a      165192238\n",
      "b      165131214\n",
      "c      164822405\n",
      "\n",
      "\n",
      "CPU times: user 518 ms, sys: 149 ms, total: 667 ms\n",
      "Wall time: 666 ms\n"
     ]
    }
   ],
   "source": [
    "%%time\n",
    "print('### PANDAS ###')\n",
    "old_df = old_pd.DataFrame(frame_data)\n",
    "old_df['group'] = random_groups\n",
    "old_df.columns = ['data', 'group']\n",
    "print(old_df.groupby('group').sum())\n",
    "print('\\n')"
   ]
  },
  {
   "cell_type": "code",
   "execution_count": 7,
   "metadata": {},
   "outputs": [
    {
     "name": "stdout",
     "output_type": "stream",
     "text": [
      "### MODIN ###\n",
      "            data\n",
      "group           \n",
      "a      165192238\n",
      "b      165131214\n",
      "c      164822405\n",
      "\n",
      "\n",
      "CPU times: user 20.9 s, sys: 330 ms, total: 21.3 s\n",
      "Wall time: 29.4 s\n"
     ]
    }
   ],
   "source": [
    "%%time\n",
    "print('### MODIN ###')\n",
    "df = pd.DataFrame(frame_data)\n",
    "df['group'] = random_groups\n",
    "df.columns = ['data', 'group']\n",
    "print(df.groupby('group').sum())\n",
    "print('\\n')"
   ]
  },
  {
   "cell_type": "code",
   "execution_count": 8,
   "metadata": {},
   "outputs": [
    {
     "name": "stdout",
     "output_type": "stream",
     "text": [
      "### DASK ###\n",
      "            data\n",
      "group           \n",
      "a      165192238\n",
      "b      165131214\n",
      "c      164822405\n",
      "\n",
      "\n",
      "CPU times: user 4.01 s, sys: 207 ms, total: 4.21 s\n",
      "Wall time: 3.75 s\n"
     ]
    }
   ],
   "source": [
    "%%time\n",
    "print('### DASK ###')\n",
    "df3 = dd.from_pandas(old_df, chunksize=10000)\n",
    "print(df3.groupby('group').sum().compute())\n",
    "print('\\n')"
   ]
  },
  {
   "cell_type": "code",
   "execution_count": null,
   "metadata": {},
   "outputs": [],
   "source": []
  },
  {
   "cell_type": "code",
   "execution_count": 9,
   "metadata": {},
   "outputs": [],
   "source": [
    "old_df.to_csv('foo.csv', index=False)"
   ]
  },
  {
   "cell_type": "code",
   "execution_count": 10,
   "metadata": {},
   "outputs": [],
   "source": [
    "spark = SparkSession.builder.appName('test').getOrCreate()"
   ]
  },
  {
   "cell_type": "code",
   "execution_count": 11,
   "metadata": {},
   "outputs": [],
   "source": [
    "df = spark.read.csv('foo.csv', header=True)"
   ]
  },
  {
   "cell_type": "code",
   "execution_count": 12,
   "metadata": {},
   "outputs": [],
   "source": [
    "df.registerTempTable(\"df\")"
   ]
  },
  {
   "cell_type": "code",
   "execution_count": 13,
   "metadata": {},
   "outputs": [
    {
     "name": "stdout",
     "output_type": "stream",
     "text": [
      "root\n",
      " |-- data: string (nullable = true)\n",
      " |-- group: string (nullable = true)\n",
      "\n"
     ]
    }
   ],
   "source": [
    "df.printSchema()"
   ]
  },
  {
   "cell_type": "code",
   "execution_count": 14,
   "metadata": {},
   "outputs": [
    {
     "name": "stdout",
     "output_type": "stream",
     "text": [
      "### PYSPARK ###\n",
      "+-----+--------------------------------------+\n",
      "|group|CAST(sum(CAST(data AS DOUBLE)) AS INT)|\n",
      "+-----+--------------------------------------+\n",
      "|    a|                             165192238|\n",
      "|    b|                             165131214|\n",
      "|    c|                             164822405|\n",
      "+-----+--------------------------------------+\n",
      "\n",
      "None\n",
      "\n",
      "\n",
      "CPU times: user 9.38 ms, sys: 216 µs, total: 9.6 ms\n",
      "Wall time: 8.7 s\n"
     ]
    }
   ],
   "source": [
    "%%time\n",
    "print('### PYSPARK ###')\n",
    "print(spark.sql(\"select group, cast(sum(data) as int) from df group by 1 order by 1\").show())\n",
    "print('\\n')"
   ]
  },
  {
   "cell_type": "code",
   "execution_count": null,
   "metadata": {},
   "outputs": [],
   "source": []
  },
  {
   "cell_type": "code",
   "execution_count": null,
   "metadata": {},
   "outputs": [],
   "source": []
  }
 ],
 "metadata": {
  "kernelspec": {
   "display_name": "Python 3",
   "language": "python",
   "name": "python3"
  },
  "language_info": {
   "codemirror_mode": {
    "name": "ipython",
    "version": 3
   },
   "file_extension": ".py",
   "mimetype": "text/x-python",
   "name": "python",
   "nbconvert_exporter": "python",
   "pygments_lexer": "ipython3",
   "version": "3.7.1"
  }
 },
 "nbformat": 4,
 "nbformat_minor": 2
}
